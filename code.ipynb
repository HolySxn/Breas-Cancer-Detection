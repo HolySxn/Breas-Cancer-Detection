{
 "cells": [
  {
   "cell_type": "code",
   "execution_count": 3,
   "id": "c41f5a0f-e4ee-4242-8413-2e18e87ed9da",
   "metadata": {},
   "outputs": [],
   "source": [
    "import os\n",
    "import numpy as np\n",
    "import pandas as pd\n",
    "from sklearn.model_selection import train_test_split, GridSearchCV, RandomizedSearchCV\n",
    "from sklearn.preprocessing import StandardScaler\n",
    "from sklearn.linear_model import LogisticRegression\n",
    "from sklearn.svm import SVC\n",
    "from sklearn.tree import DecisionTreeClassifier\n",
    "from sklearn.ensemble import RandomForestClassifier\n",
    "from sklearn.neighbors import KNeighborsClassifier\n",
    "from sklearn.metrics import accuracy_score, precision_score, recall_score, f1_score, roc_auc_score, confusion_matrix, ConfusionMatrixDisplay\n",
    "from sklearn.utils.class_weight import compute_sample_weight\n",
    "from imblearn.over_sampling import SMOTE\n",
    "from PIL import Image,ImageOps\n",
    "import matplotlib.pyplot as plt\n",
    "from sklearn.decomposition import PCA\n",
    "import os"
   ]
  },
  {
   "cell_type": "markdown",
   "id": "324cd46e-1281-4916-a504-2cb74fedab6c",
   "metadata": {},
   "source": [
    "## Load and Preprocess the Data"
   ]
  },
  {
   "cell_type": "code",
   "execution_count": 5,
   "id": "eba25077-b8b1-4fea-8f9d-8e44bf992f23",
   "metadata": {},
   "outputs": [
    {
     "data": {
      "text/html": [
       "<div>\n",
       "<style scoped>\n",
       "    .dataframe tbody tr th:only-of-type {\n",
       "        vertical-align: middle;\n",
       "    }\n",
       "\n",
       "    .dataframe tbody tr th {\n",
       "        vertical-align: top;\n",
       "    }\n",
       "\n",
       "    .dataframe thead th {\n",
       "        text-align: right;\n",
       "    }\n",
       "</style>\n",
       "<table border=\"1\" class=\"dataframe\">\n",
       "  <thead>\n",
       "    <tr style=\"text-align: right;\">\n",
       "      <th></th>\n",
       "      <th>study_id</th>\n",
       "      <th>series_id</th>\n",
       "      <th>image_id</th>\n",
       "      <th>laterality</th>\n",
       "      <th>view_position</th>\n",
       "      <th>height</th>\n",
       "      <th>width</th>\n",
       "      <th>breast_birads</th>\n",
       "      <th>breast_density</th>\n",
       "      <th>split</th>\n",
       "    </tr>\n",
       "  </thead>\n",
       "  <tbody>\n",
       "    <tr>\n",
       "      <th>0</th>\n",
       "      <td>b8d273e8601f348d3664778dae0e7e0b</td>\n",
       "      <td>b36517b9cbbcfd286a7ae04f643af97a</td>\n",
       "      <td>d8125545210c08e1b1793a5af6458ee2</td>\n",
       "      <td>L</td>\n",
       "      <td>CC</td>\n",
       "      <td>3518</td>\n",
       "      <td>2800</td>\n",
       "      <td>BI-RADS 2</td>\n",
       "      <td>DENSITY C</td>\n",
       "      <td>training</td>\n",
       "    </tr>\n",
       "    <tr>\n",
       "      <th>1</th>\n",
       "      <td>b8d273e8601f348d3664778dae0e7e0b</td>\n",
       "      <td>b36517b9cbbcfd286a7ae04f643af97a</td>\n",
       "      <td>290c658f4e75a3f83ec78a847414297c</td>\n",
       "      <td>L</td>\n",
       "      <td>MLO</td>\n",
       "      <td>3518</td>\n",
       "      <td>2800</td>\n",
       "      <td>BI-RADS 2</td>\n",
       "      <td>DENSITY C</td>\n",
       "      <td>training</td>\n",
       "    </tr>\n",
       "    <tr>\n",
       "      <th>2</th>\n",
       "      <td>b8d273e8601f348d3664778dae0e7e0b</td>\n",
       "      <td>b36517b9cbbcfd286a7ae04f643af97a</td>\n",
       "      <td>cd0fc7bc53ac632a11643ac4cc91002a</td>\n",
       "      <td>R</td>\n",
       "      <td>CC</td>\n",
       "      <td>3518</td>\n",
       "      <td>2800</td>\n",
       "      <td>BI-RADS 2</td>\n",
       "      <td>DENSITY C</td>\n",
       "      <td>training</td>\n",
       "    </tr>\n",
       "    <tr>\n",
       "      <th>3</th>\n",
       "      <td>b8d273e8601f348d3664778dae0e7e0b</td>\n",
       "      <td>b36517b9cbbcfd286a7ae04f643af97a</td>\n",
       "      <td>71638b1e853799f227492bfb08a01491</td>\n",
       "      <td>R</td>\n",
       "      <td>MLO</td>\n",
       "      <td>3518</td>\n",
       "      <td>2800</td>\n",
       "      <td>BI-RADS 2</td>\n",
       "      <td>DENSITY C</td>\n",
       "      <td>training</td>\n",
       "    </tr>\n",
       "    <tr>\n",
       "      <th>4</th>\n",
       "      <td>8269f5971eaca3e5d3772d1796e6bd7a</td>\n",
       "      <td>d931832a0815df082c085b6e09d20aac</td>\n",
       "      <td>dd9ce3288c0773e006a294188aadba8e</td>\n",
       "      <td>L</td>\n",
       "      <td>CC</td>\n",
       "      <td>3518</td>\n",
       "      <td>2800</td>\n",
       "      <td>BI-RADS 1</td>\n",
       "      <td>DENSITY C</td>\n",
       "      <td>training</td>\n",
       "    </tr>\n",
       "  </tbody>\n",
       "</table>\n",
       "</div>"
      ],
      "text/plain": [
       "                           study_id                         series_id  \\\n",
       "0  b8d273e8601f348d3664778dae0e7e0b  b36517b9cbbcfd286a7ae04f643af97a   \n",
       "1  b8d273e8601f348d3664778dae0e7e0b  b36517b9cbbcfd286a7ae04f643af97a   \n",
       "2  b8d273e8601f348d3664778dae0e7e0b  b36517b9cbbcfd286a7ae04f643af97a   \n",
       "3  b8d273e8601f348d3664778dae0e7e0b  b36517b9cbbcfd286a7ae04f643af97a   \n",
       "4  8269f5971eaca3e5d3772d1796e6bd7a  d931832a0815df082c085b6e09d20aac   \n",
       "\n",
       "                           image_id laterality view_position  height  width  \\\n",
       "0  d8125545210c08e1b1793a5af6458ee2          L            CC    3518   2800   \n",
       "1  290c658f4e75a3f83ec78a847414297c          L           MLO    3518   2800   \n",
       "2  cd0fc7bc53ac632a11643ac4cc91002a          R            CC    3518   2800   \n",
       "3  71638b1e853799f227492bfb08a01491          R           MLO    3518   2800   \n",
       "4  dd9ce3288c0773e006a294188aadba8e          L            CC    3518   2800   \n",
       "\n",
       "  breast_birads breast_density     split  \n",
       "0     BI-RADS 2      DENSITY C  training  \n",
       "1     BI-RADS 2      DENSITY C  training  \n",
       "2     BI-RADS 2      DENSITY C  training  \n",
       "3     BI-RADS 2      DENSITY C  training  \n",
       "4     BI-RADS 1      DENSITY C  training  "
      ]
     },
     "execution_count": 5,
     "metadata": {},
     "output_type": "execute_result"
    }
   ],
   "source": [
    "df = pd.read_csv('breast-level_annotations.csv')\n",
    "\n",
    "df.head()"
   ]
  },
  {
   "cell_type": "code",
   "execution_count": 8,
   "id": "5de3d26d-4d2e-4d51-8214-bb229f7125be",
   "metadata": {},
   "outputs": [
    {
     "data": {
      "text/plain": [
       "class\n",
       "0    13406\n",
       "1     6594\n",
       "Name: count, dtype: int64"
      ]
     },
     "execution_count": 8,
     "metadata": {},
     "output_type": "execute_result"
    }
   ],
   "source": [
    "df['birads_numeric'] = df['breast_birads'].str.extract(r'(\\d+)').astype(int)\n",
    "\n",
    "df['class'] = df['birads_numeric'].apply(lambda x: 0 if x == 1 else 1)\n",
    "\n",
    "df['class'].value_counts()"
   ]
  },
  {
   "cell_type": "code",
   "execution_count": 10,
   "id": "280d6303-8380-4a59-a7bf-7e051843ee10",
   "metadata": {},
   "outputs": [
    {
     "name": "stdout",
     "output_type": "stream",
     "text": [
      "Training set size: 11200\n",
      "Test set size: 2800\n"
     ]
    }
   ],
   "source": [
    "from sklearn.utils import shuffle\n",
    "train_df = df[df['split'] == 'training'].sample(frac=0.7, random_state=50).reset_index(drop=True)\n",
    "test_df = df[df['split'] == 'test'].sample(frac=0.7, random_state=50).reset_index(drop=True)\n",
    "print(f\"Training set size: {len(train_df)}\")\n",
    "print(f\"Test set size: {len(test_df)}\")\n"
   ]
  },
  {
   "cell_type": "markdown",
   "id": "29f88f56-48b8-4958-b14c-f63221545023",
   "metadata": {},
   "source": [
    "## Load and Preprocess Images"
   ]
  },
  {
   "cell_type": "code",
   "execution_count": 13,
   "id": "4e18a2da-04e9-4ba5-b7a5-3b753e36eac5",
   "metadata": {},
   "outputs": [],
   "source": [
    "BASE_DIR = r\"C:\\Users\\kuday\\Downloads\\images\"  \n",
    "\n",
    "def load_image(image_path):\n",
    "   \n",
    "    try:\n",
    "        img = Image.open(image_path).convert('L')  \n",
    "        img = img.resize((256, 256)) \n",
    "        img = ImageOps.equalize(img)  \n",
    "\n",
    "        return np.array(img, dtype=np.float16) / 255.0 \n",
    "    except Exception as e:\n",
    "        print(f\"Ошибка при загрузке {image_path}: {e}\")\n",
    "        return None  \n"
   ]
  },
  {
   "cell_type": "code",
   "execution_count": 15,
   "id": "15e5f9a0-68a9-422c-b2a1-c042c603c25e",
   "metadata": {},
   "outputs": [],
   "source": [
    "X_train, y_train = [], []\n",
    "\n",
    "for _, row in train_df.iterrows():\n",
    "    image_path = os.path.join(BASE_DIR, row['study_id'], f\"{row['image_id']}.jpg\")\n",
    "    img = load_image(image_path)\n",
    "    if img is not None:\n",
    "        X_train.append(img)\n",
    "        y_train.append(row['class'])\n",
    "\n",
    "\n",
    "X_test, y_test = [], []\n",
    "\n",
    "for _, row in test_df.iterrows():\n",
    "    image_path = os.path.join(BASE_DIR, row['study_id'], f\"{row['image_id']}.jpg\")\n",
    "    img = load_image(image_path)\n",
    "    if img is not None:\n",
    "        X_test.append(img)\n",
    "        y_test.append(row['class'])\n",
    "\n",
    "\n",
    "X_train = np.array(X_train)\n",
    "X_test = np.array(X_test)\n",
    "y_train = np.array(y_train)\n",
    "y_test = np.array(y_test)\n",
    "\n",
    "\n",
    "X_train = X_train.reshape(X_train.shape[0], -1)\n",
    "X_test = X_test.reshape(X_test.shape[0], -1)\n"
   ]
  },
  {
   "cell_type": "code",
   "execution_count": 16,
   "id": "ab4141bd-6099-4f2c-b94e-637ec7d85cb0",
   "metadata": {},
   "outputs": [],
   "source": [
    "X_train = X_train.reshape(X_train.shape[0], -1)\n",
    "X_test = X_test.reshape(X_test.shape[0], -1)"
   ]
  },
  {
   "cell_type": "code",
   "execution_count": 17,
   "id": "16d81605-3baa-46a2-a0d0-9a38d99f1e34",
   "metadata": {},
   "outputs": [],
   "source": [
    "pca = PCA(n_components=100, random_state=42)\n",
    "X_train = pca.fit_transform(X_train)\n",
    "X_test = pca.transform(X_test)"
   ]
  },
  {
   "cell_type": "code",
   "execution_count": 23,
   "id": "f5f337fb-dc92-46a4-81b4-58636086e713",
   "metadata": {},
   "outputs": [
    {
     "name": "stdout",
     "output_type": "stream",
     "text": [
      "Before SMOTE: Counter({0: 7566, 1: 3634})\n"
     ]
    }
   ],
   "source": [
    "from collections import Counter\n",
    "print(\"Before SMOTE:\", Counter(y_train))"
   ]
  },
  {
   "cell_type": "code",
   "execution_count": 27,
   "id": "f2c2c3e3-7edc-4df2-9a0c-d54f706b293d",
   "metadata": {},
   "outputs": [
    {
     "name": "stdout",
     "output_type": "stream",
     "text": [
      "After SMOTE: Counter({0: 7566, 1: 7566})\n"
     ]
    }
   ],
   "source": [
    "smote = SMOTE(random_state=42)\n",
    "X_train, y_train = smote.fit_resample(X_train, y_train)\n",
    "print(\"After SMOTE:\", Counter(y_train))"
   ]
  },
  {
   "cell_type": "markdown",
   "id": "05c5b048-8707-4690-83ab-b05dfe16db7f",
   "metadata": {},
   "source": [
    "## Implement and Evaluate Models"
   ]
  },
  {
   "cell_type": "code",
   "execution_count": 32,
   "id": "322c2cc4-e026-42c6-ab7e-2c96c908a1c5",
   "metadata": {},
   "outputs": [],
   "source": [
    "def evaluate_model(model, X_train, X_test, y_train, y_test, threshold=0.2):\n",
    "    model.fit(X_train, y_train)  \n",
    "    y_probs = model.predict_proba(X_test)[:, 1]  \n",
    "    y_pred = (y_probs > threshold).astype(int)  \n",
    "    y_pred = model.predict(X_test)\n",
    "    \n",
    "   \n",
    "    accuracy = accuracy_score(y_test, y_pred)\n",
    "    precision = precision_score(y_test, y_pred)\n",
    "    recall = recall_score(y_test, y_pred)\n",
    "    f1 = f1_score(y_test, y_pred)\n",
    "    roc_auc = roc_auc_score(y_test, y_pred)\n",
    "    \n",
    "  \n",
    "    print(f\"Accuracy: {accuracy:.4f}\")\n",
    "    print(f\"Precision: {precision:.4f}\")\n",
    "    print(f\"Recall: {recall:.4f}\")\n",
    "    print(f\"F1-Score: {f1:.4f}\")\n",
    "    print(f\"ROC-AUC: {roc_auc:.4f}\")\n",
    "    \n",
    "   \n",
    "    cm = confusion_matrix(y_test, y_pred)\n",
    "    disp = ConfusionMatrixDisplay(confusion_matrix=cm)\n",
    "    disp.plot()\n",
    "    plt.show()"
   ]
  },
  {
   "cell_type": "markdown",
   "id": "e5f72941-19fc-4788-9a26-8000982de66f",
   "metadata": {},
   "source": [
    "<strong style=\"font-size:16px;\">Logistic Regression</strong>\n"
   ]
  },
  {
   "cell_type": "code",
   "execution_count": 34,
   "id": "84220704-6e92-4516-9f21-a0f7ae8e7e3a",
   "metadata": {},
   "outputs": [
    {
     "name": "stdout",
     "output_type": "stream",
     "text": [
      "Logistic Regression:\n",
      "Accuracy: 0.5146\n",
      "Precision: 0.3274\n",
      "Recall: 0.4601\n",
      "F1-Score: 0.3826\n",
      "ROC-AUC: 0.5006\n"
     ]
    },
    {
     "data": {
      "image/png": "[encoded data removed]",
      "text/plain": [
       "<Figure size 640x480 with 2 Axes>"
      ]
     },
     "metadata": {},
     "output_type": "display_data"
    }
   ],
   "source": [
    "print(\"Logistic Regression:\")\n",
    "lr = LogisticRegression(penalty='l1', solver='saga', C=50)\n",
    "evaluate_model(lr, X_train, X_test, y_train, y_test)\n",
    "X_train_resampled, y_train_resampled = smote.fit_resample(X_train, y_train)"
   ]
  },
  {
   "cell_type": "markdown",
   "id": "d6f70ec1-9d5a-4959-a55b-59cef95dc379",
   "metadata": {},
   "source": [
    "<strong style=\"font-size:16px;\">Logistic Regression With Grid Search</strong>\n"
   ]
  },
  {
   "cell_type": "code",
   "execution_count": 36,
   "id": "a82a1700-cd21-4079-880e-036dd496cb00",
   "metadata": {
    "scrolled": true
   },
   "outputs": [
    {
     "name": "stdout",
     "output_type": "stream",
     "text": [
      "Fitting 5 folds for each of 60 candidates, totalling 300 fits\n",
      "Best Parameters: {'C': 0.01, 'max_iter': 100, 'penalty': 'l1', 'solver': 'liblinear'}\n",
      "Best Recall: 0.5592\n"
     ]
    }
   ],
   "source": [
    "from sklearn.model_selection import RandomizedSearchCV\n",
    "from scipy.stats import loguniform  \n",
    "\n",
    "param_grid = {\n",
    "    'C': [0.001, 0.01, 0.1, 1, 10],  \n",
    "    'penalty': ['l1', 'l2'],           \n",
    "    'solver': ['liblinear', 'saga'],    \n",
    "    'max_iter': [100, 500, 1000]         \n",
    "}\n",
    "\n",
    "lr = LogisticRegression()\n",
    "\n",
    "grid_search = GridSearchCV(\n",
    "    estimator=lr,             \n",
    "    param_grid=param_grid,    \n",
    "    scoring='recall',          \n",
    "    cv=5,                      \n",
    "    n_jobs=-1,                \n",
    "    verbose=1                  \n",
    ")\n",
    "\n",
    "grid_search.fit(X_train, y_train)\n",
    "\n",
    "print(f\"Best Parameters: {grid_search.best_params_}\")\n",
    "print(f\"Best Recall: {grid_search.best_score_:.4f}\")"
   ]
  },
  {
   "cell_type": "markdown",
   "id": "cf0978c4-bc39-4d96-90c8-5d790bb5319d",
   "metadata": {},
   "source": [
    "<strong style=\"font-size:16px;\">SVM</strong>\n"
   ]
  },
  {
   "cell_type": "code",
   "execution_count": 54,
   "id": "e9cd4504-47da-4da6-82a3-4cc65315876a",
   "metadata": {},
   "outputs": [
    {
     "name": "stdout",
     "output_type": "stream",
     "text": [
      "Support Vector Machine:\n",
      "Accuracy: 0.5571\n",
      "Precision: 0.3415\n",
      "Recall: 0.3825\n",
      "F1-Score: 0.3608\n",
      "ROC-AUC: 0.5122\n"
     ]
    },
    {
     "data": {
      "image/png": "[encoded data removed]",
      "text/plain": [
       "<Figure size 640x480 with 2 Axes>"
      ]
     },
     "metadata": {},
     "output_type": "display_data"
    }
   ],
   "source": [
    "print(\"Support Vector Machine:\")\n",
    "svm = SVC(probability=True)\n",
    "evaluate_model(svm, X_train, X_test, y_train, y_test)"
   ]
  },
  {
   "cell_type": "markdown",
   "id": "fc3ec6c9-d538-46a0-b26f-f9a7fb300a1c",
   "metadata": {},
   "source": [
    "<strong style=\"font-size:16px;\">SVM With Grid Search</strong>\n"
   ]
  },
  {
   "cell_type": "code",
   "execution_count": 21,
   "id": "3d2fff6d-65e0-4e01-89e2-d670fa3558c3",
   "metadata": {},
   "outputs": [
    {
     "name": "stdout",
     "output_type": "stream",
     "text": [
      "Fitting 5 folds for each of 12 candidates, totalling 60 fits\n",
      "Best Parameters: {'C': 0.1, 'class_weight': 'balanced', 'degree': 2, 'kernel': 'rbf'}\n",
      "Best Recall: 0.4733\n"
     ]
    }
   ],
   "source": [
    "param_grid = {\n",
    "    'C': [0.1, 1],                 \n",
    "    'kernel': ['linear', 'rbf', 'poly'], \n",
    "    'degree': [2, 3],      \n",
    "    'class_weight': ['balanced']       \n",
    "}\n",
    "svm = SVC(probability=True, random_state=42)\n",
    "\n",
    "grid_search = GridSearchCV(\n",
    "    estimator=svm, \n",
    "    param_grid=param_grid,\n",
    "    scoring='recall',  \n",
    "    cv=5,              \n",
    "    n_jobs=-1,         \n",
    "    verbose=1        \n",
    ")\n",
    "\n",
    "grid_search.fit(X_train, y_train)\n",
    "\n",
    "print(f\"Best Parameters: {grid_search.best_params_}\")\n",
    "print(f\"Best Recall: {grid_search.best_score_:.4f}\")"
   ]
  },
  {
   "cell_type": "markdown",
   "id": "d4ac88a9-b0b1-49a0-a45c-14b0c3e2295e",
   "metadata": {},
   "source": [
    "<strong style=\"font-size:16px;\">Decision Tree</strong>\n"
   ]
  },
  {
   "cell_type": "code",
   "execution_count": 40,
   "id": "832bd1b2-0e63-4b8c-9ed0-1951e64eabf0",
   "metadata": {},
   "outputs": [
    {
     "name": "stdout",
     "output_type": "stream",
     "text": [
      "Decision Tree:\n",
      "Accuracy: 0.5346\n",
      "Precision: 0.3249\n",
      "Recall: 0.3934\n",
      "F1-Score: 0.3559\n",
      "ROC-AUC: 0.4983\n"
     ]
    },
    {
     "data": {
      "image/png": "[encoded data removed]",
      "text/plain": [
       "<Figure size 640x480 with 2 Axes>"
      ]
     },
     "metadata": {},
     "output_type": "display_data"
    }
   ],
   "source": [
    "print(\"Decision Tree:\")\n",
    "dt = DecisionTreeClassifier()\n",
    "evaluate_model(dt, X_train, X_test, y_train, y_test)"
   ]
  },
  {
   "cell_type": "markdown",
   "id": "185a5feb-798e-46df-82e2-72bc249f0027",
   "metadata": {},
   "source": [
    "<strong style=\"font-size:16px;\">Decision Tree With Grid Search</strong>\n"
   ]
  },
  {
   "cell_type": "code",
   "execution_count": 42,
   "id": "b3d13a03-5e39-4eb2-bb6f-670666d9fc81",
   "metadata": {},
   "outputs": [
    {
     "name": "stdout",
     "output_type": "stream",
     "text": [
      "Fitting 5 folds for each of 48 candidates, totalling 240 fits\n",
      "Best Parameters: {'criterion': 'gini', 'max_depth': 10, 'max_features': 'sqrt', 'min_samples_leaf': 1, 'min_samples_split': 2}\n",
      "Best Recall: 0.7444\n"
     ]
    }
   ],
   "source": [
    "param_grid = {\n",
    "    'max_depth': [None, 10, 20],  \n",
    "    'min_samples_split': [2, 5],  \n",
    "    'min_samples_leaf': [1, 2],   \n",
    "    'criterion': ['gini', 'entropy'],\n",
    "    'max_features': ['sqrt', 'log2']  \n",
    "}\n",
    "\n",
    "dt = DecisionTreeClassifier()\n",
    "\n",
    "grid_search = GridSearchCV(\n",
    "    estimator=dt,              \n",
    "    param_grid=param_grid,     \n",
    "    scoring='recall',          \n",
    "    cv=5,                     \n",
    "    n_jobs=-1,                \n",
    "    verbose=1               \n",
    ")\n",
    "\n",
    "grid_search.fit(X_train, y_train)\n",
    "\n",
    "print(f\"Best Parameters: {grid_search.best_params_}\")\n",
    "print(f\"Best Recall: {grid_search.best_score_:.4f}\")"
   ]
  },
  {
   "cell_type": "markdown",
   "id": "7fa8161e-5698-4807-92ca-dc233d849989",
   "metadata": {},
   "source": [
    "<strong style=\"font-size:16px;\">Random Forest</strong>"
   ]
  },
  {
   "cell_type": "code",
   "execution_count": 52,
   "id": "81e40a01-2805-40d7-8ae7-8d47829ef23a",
   "metadata": {},
   "outputs": [
    {
     "name": "stdout",
     "output_type": "stream",
     "text": [
      "Random Forest:\n",
      "Accuracy: 0.5811\n",
      "Precision: 0.3489\n",
      "Recall: 0.3257\n",
      "F1-Score: 0.3369\n",
      "ROC-AUC: 0.5154\n"
     ]
    },
    {
     "data": {
      "image/png": "[encoded data removed]",
      "text/plain": [
       "<Figure size 640x480 with 2 Axes>"
      ]
     },
     "metadata": {},
     "output_type": "display_data"
    }
   ],
   "source": [
    "print(\"Random Forest:\")\n",
    "rf = RandomForestClassifier()\n",
    "evaluate_model(rf, X_train, X_test, y_train, y_test)"
   ]
  },
  {
   "cell_type": "markdown",
   "id": "2c55ff9e-f755-4e9e-8e03-3b776a8eedfb",
   "metadata": {},
   "source": [
    "<strong style=\"font-size:16px;\">Random Forest With Grid Search</strong>\n"
   ]
  },
  {
   "cell_type": "code",
   "execution_count": 46,
   "id": "9d44eae1-de9d-4ea7-9f95-6a7138f8e5fc",
   "metadata": {},
   "outputs": [
    {
     "name": "stdout",
     "output_type": "stream",
     "text": [
      "Fitting 5 folds for each of 144 candidates, totalling 720 fits\n",
      "Best Parameters: {'criterion': 'entropy', 'max_depth': 20, 'max_features': 'sqrt', 'min_samples_leaf': 1, 'min_samples_split': 2, 'n_estimators': 200}\n",
      "Best Recall: 0.8155\n"
     ]
    }
   ],
   "source": [
    "param_grid = {\n",
    "    'n_estimators': [50, 100, 200],     \n",
    "    'max_depth': [None, 10, 20],   \n",
    "    'min_samples_split': [2, 5],    \n",
    "    'min_samples_leaf': [1, 2],     \n",
    "    'criterion': ['gini', 'entropy'],   \n",
    "    'max_features': ['sqrt', 'log2']  \n",
    "}\n",
    "\n",
    "rf = RandomForestClassifier(random_state=42)\n",
    "\n",
    "grid_search = GridSearchCV(\n",
    "    estimator=rf,              \n",
    "    param_grid=param_grid,     \n",
    "    scoring='recall',          \n",
    "    cv=5,                      \n",
    "    n_jobs=-1,                 \n",
    "    verbose=1                  \n",
    ")\n",
    "\n",
    "grid_search.fit(X_train, y_train)\n",
    "\n",
    "print(f\"Best Parameters: {grid_search.best_params_}\")\n",
    "print(f\"Best Recall: {grid_search.best_score_:.4f}\")"
   ]
  },
  {
   "cell_type": "markdown",
   "id": "6af283fe-07e6-42fa-9959-81b7242f5631",
   "metadata": {},
   "source": [
    "<strong style=\"font-size:16px;\">KNN</strong>\n"
   ]
  },
  {
   "cell_type": "code",
   "execution_count": 48,
   "id": "aac2745e-6ba9-4634-9e03-6b6955c07ef8",
   "metadata": {},
   "outputs": [
    {
     "name": "stdout",
     "output_type": "stream",
     "text": [
      "k-Nearest Neighbors:\n",
      "Accuracy: 0.5114\n",
      "Precision: 0.3392\n",
      "Recall: 0.5224\n",
      "F1-Score: 0.4114\n",
      "ROC-AUC: 0.5143\n"
     ]
    },
    {
     "data": {
      "image/png": "[encoded data removed]",
      "text/plain": [
       "<Figure size 640x480 with 2 Axes>"
      ]
     },
     "metadata": {},
     "output_type": "display_data"
    }
   ],
   "source": [
    "print(\"k-Nearest Neighbors:\")\n",
    "knn = KNeighborsClassifier()\n",
    "evaluate_model(knn, X_train, X_test, y_train, y_test)"
   ]
  },
  {
   "cell_type": "markdown",
   "id": "0d942abd-c1bc-427d-bf59-5d292e9d76c2",
   "metadata": {},
   "source": [
    "<strong style=\"font-size:16px;\">KNN With Grid Search</strong>\n"
   ]
  },
  {
   "cell_type": "code",
   "execution_count": 50,
   "id": "11d8440a-bf6d-4aec-8dd9-d01d86d7e2a2",
   "metadata": {},
   "outputs": [
    {
     "name": "stdout",
     "output_type": "stream",
     "text": [
      "Fitting 5 folds for each of 30 candidates, totalling 150 fits\n",
      "Best Parameters: {'metric': 'manhattan', 'n_neighbors': 3, 'weights': 'distance'}\n",
      "Best Recall: 0.9030\n"
     ]
    }
   ],
   "source": [
    "param_grid = {\n",
    "    'n_neighbors': [3, 5, 7, 9, 11],   \n",
    "    'weights': ['uniform', 'distance'], \n",
    "    'metric': ['euclidean', 'manhattan', 'minkowski']\n",
    "}\n",
    "\n",
    "knn = KNeighborsClassifier()\n",
    "\n",
    "grid_search = GridSearchCV(\n",
    "    estimator=knn,            \n",
    "    param_grid=param_grid,    \n",
    "    scoring='recall',          \n",
    "    cv=5,                     \n",
    "    n_jobs=-1,                \n",
    "    verbose=1                 \n",
    ")\n",
    "\n",
    "grid_search.fit(X_train, y_train)\n",
    "\n",
    "print(f\"Best Parameters: {grid_search.best_params_}\")\n",
    "print(f\"Best Recall: {grid_search.best_score_:.4f}\")"
   ]
  },
  {
   "cell_type": "code",
   "execution_count": null,
   "id": "b5fa3ba3-a451-4fcc-8b37-5917ef34f338",
   "metadata": {},
   "outputs": [],
   "source": []
  }
 ],
 "metadata": {
  "kernelspec": {
   "display_name": "Python [conda env:base] *",
   "language": "python",
   "name": "conda-base-py"
  },
  "language_info": {
   "codemirror_mode": {
    "name": "ipython",
    "version": 3
   },
   "file_extension": ".py",
   "mimetype": "text/x-python",
   "name": "python",
   "nbconvert_exporter": "python",
   "pygments_lexer": "ipython3",
   "version": "3.12.7"
  }
 },
 "nbformat": 4,
 "nbformat_minor": 5
}
